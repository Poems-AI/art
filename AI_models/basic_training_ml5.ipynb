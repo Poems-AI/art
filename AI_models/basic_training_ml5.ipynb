{
 "cells": [
  {
   "cell_type": "code",
   "execution_count": 1,
   "metadata": {
    "colab": {
     "base_uri": "https://localhost:8080/"
    },
    "id": "7EEeOyLK8VA_",
    "outputId": "30e84930-5e96-4679-f152-6179edf6db4e"
   },
   "outputs": [
    {
     "name": "stdout",
     "output_type": "stream",
     "text": [
      "Cloning into 'training-charRNN'...\n",
      "remote: Enumerating objects: 105, done.\u001b[K\n",
      "remote: Counting objects: 100% (26/26), done.\u001b[K\n",
      "remote: Compressing objects: 100% (19/19), done.\u001b[K\n",
      "remote: Total 105 (delta 10), reused 5 (delta 3), pack-reused 79\u001b[K\n",
      "Receiving objects: 100% (105/105), 34.09 KiB | 1.62 MiB/s, done.\n",
      "Resolving deltas: 100% (50/50), done.\n"
     ]
    }
   ],
   "source": [
    "!git clone https://github.com/ml5js/training-charRNN.git\n"
   ]
  },
  {
   "cell_type": "code",
   "execution_count": 2,
   "metadata": {
    "colab": {
     "base_uri": "https://localhost:8080/"
    },
    "id": "qF1RK5h9ITwE",
    "outputId": "683c5be6-f77c-4e6d-9aac-eebea1824ced"
   },
   "outputs": [
    {
     "name": "stdout",
     "output_type": "stream",
     "text": [
      "/Users/ismaelfaro/code/poem-art/art/AI_models/training-charRNN\n"
     ]
    }
   ],
   "source": [
    "cd training-charRNN"
   ]
  },
  {
   "cell_type": "code",
   "execution_count": 10,
   "metadata": {
    "colab": {
     "base_uri": "https://localhost:8080/",
     "height": 1000
    },
    "id": "W6y8saYIIMjj",
    "outputId": "8e93b2e7-742e-4222-c16c-851bd71f4173"
   },
   "outputs": [
    {
     "name": "stdout",
     "output_type": "stream",
     "text": [
      "\u001b[31mERROR: Could not find a version that satisfies the requirement tensorflow==1.15\u001b[0m\n",
      "\u001b[31mERROR: No matching distribution found for tensorflow==1.15\u001b[0m\n"
     ]
    }
   ],
   "source": [
    "!pip install -r requirements.txt"
   ]
  },
  {
   "cell_type": "code",
   "execution_count": 20,
   "metadata": {},
   "outputs": [
    {
     "name": "stdout",
     "output_type": "stream",
     "text": [
      "Collecting tensorflow==1.5.0\n",
      "  Downloading https://storage.googleapis.com/tensorflow/mac/cpu/tensorflow-1.5.0-py3-none-any.whl (42.5 MB)\n",
      "\u001b[K     |████████████████████████████████| 42.5 MB 9.9 MB/s eta 0:00:011\n",
      "\u001b[?25hRequirement already satisfied: absl-py>=0.1.6 in /Users/ismaelfaro/opt/anaconda3/lib/python3.8/site-packages (from tensorflow==1.5.0) (0.14.1)\n",
      "Requirement already satisfied: six>=1.10.0 in /Users/ismaelfaro/opt/anaconda3/lib/python3.8/site-packages (from tensorflow==1.5.0) (1.15.0)\n",
      "Requirement already satisfied: wheel>=0.26 in /Users/ismaelfaro/opt/anaconda3/lib/python3.8/site-packages (from tensorflow==1.5.0) (0.36.2)\n",
      "Collecting tensorflow-tensorboard<1.6.0,>=1.5.0\n",
      "  Downloading tensorflow_tensorboard-1.5.1-py3-none-any.whl (3.0 MB)\n",
      "\u001b[K     |████████████████████████████████| 3.0 MB 2.9 MB/s eta 0:00:01\n",
      "\u001b[?25hRequirement already satisfied: protobuf>=3.4.0 in /Users/ismaelfaro/opt/anaconda3/lib/python3.8/site-packages (from tensorflow==1.5.0) (3.18.1)\n",
      "Requirement already satisfied: numpy>=1.12.1 in /Users/ismaelfaro/opt/anaconda3/lib/python3.8/site-packages (from tensorflow==1.5.0) (1.19.5)\n",
      "Collecting html5lib==0.9999999\n",
      "  Downloading html5lib-0.9999999.tar.gz (889 kB)\n",
      "\u001b[K     |████████████████████████████████| 889 kB 5.8 MB/s eta 0:00:01\n",
      "\u001b[?25hRequirement already satisfied: werkzeug>=0.11.10 in /Users/ismaelfaro/opt/anaconda3/lib/python3.8/site-packages (from tensorflow-tensorboard<1.6.0,>=1.5.0->tensorflow==1.5.0) (1.0.1)\n",
      "Requirement already satisfied: markdown>=2.6.8 in /Users/ismaelfaro/opt/anaconda3/lib/python3.8/site-packages (from tensorflow-tensorboard<1.6.0,>=1.5.0->tensorflow==1.5.0) (3.3.4)\n",
      "Collecting bleach==1.5.0\n",
      "  Downloading bleach-1.5.0-py2.py3-none-any.whl (17 kB)\n",
      "Building wheels for collected packages: html5lib\n",
      "  Building wheel for html5lib (setup.py) ... \u001b[?25ldone\n",
      "\u001b[?25h  Created wheel for html5lib: filename=html5lib-0.9999999-py3-none-any.whl size=107219 sha256=701817e73299da375c8f595dcfd68ca8db22d5c0b399c1099aac28a02e824386\n",
      "  Stored in directory: /Users/ismaelfaro/Library/Caches/pip/wheels/dc/75/d2/3812ab8ba1fff9d3a0ed5bfc472174c9312055b1b80a94834b\n",
      "Successfully built html5lib\n",
      "Installing collected packages: html5lib, bleach, tensorflow-tensorboard, tensorflow\n",
      "  Attempting uninstall: html5lib\n",
      "    Found existing installation: html5lib 1.1\n",
      "    Uninstalling html5lib-1.1:\n",
      "      Successfully uninstalled html5lib-1.1\n",
      "  Attempting uninstall: bleach\n",
      "    Found existing installation: bleach 3.3.0\n",
      "    Uninstalling bleach-3.3.0:\n",
      "      Successfully uninstalled bleach-3.3.0\n",
      "  Attempting uninstall: tensorflow\n",
      "    Found existing installation: tensorflow 2.6.0\n",
      "    Uninstalling tensorflow-2.6.0:\n",
      "      Successfully uninstalled tensorflow-2.6.0\n",
      "Successfully installed bleach-1.5.0 html5lib-0.9999999 tensorflow-1.5.0 tensorflow-tensorboard-1.5.1\n"
     ]
    }
   ],
   "source": [
    "!python3 -m pip install --upgrade https://storage.googleapis.com/tensorflow/mac/cpu/tensorflow-1.5.0-py3-none-any.whl"
   ]
  },
  {
   "cell_type": "code",
   "execution_count": 23,
   "metadata": {
    "colab": {
     "base_uri": "https://localhost:8080/"
    },
    "id": "1wLRm1GI8vkq",
    "outputId": "3e78103f-efc5-4fd1-f0f2-9114afd6038f"
   },
   "outputs": [
    {
     "name": "stdout",
     "output_type": "stream",
     "text": [
      "/Users/ismaelfaro/opt/anaconda3/lib/python3.8/site-packages/tensorflow/python/framework/dtypes.py:493: FutureWarning: Passing (type, 1) or '1type' as a synonym of type is deprecated; in a future version of numpy, it will be understood as (type, (1,)) / '(1,)type'.\n",
      "  _np_qint8 = np.dtype([(\"qint8\", np.int8, 1)])\n",
      "/Users/ismaelfaro/opt/anaconda3/lib/python3.8/site-packages/tensorflow/python/framework/dtypes.py:494: FutureWarning: Passing (type, 1) or '1type' as a synonym of type is deprecated; in a future version of numpy, it will be understood as (type, (1,)) / '(1,)type'.\n",
      "  _np_quint8 = np.dtype([(\"quint8\", np.uint8, 1)])\n",
      "/Users/ismaelfaro/opt/anaconda3/lib/python3.8/site-packages/tensorflow/python/framework/dtypes.py:495: FutureWarning: Passing (type, 1) or '1type' as a synonym of type is deprecated; in a future version of numpy, it will be understood as (type, (1,)) / '(1,)type'.\n",
      "  _np_qint16 = np.dtype([(\"qint16\", np.int16, 1)])\n",
      "/Users/ismaelfaro/opt/anaconda3/lib/python3.8/site-packages/tensorflow/python/framework/dtypes.py:496: FutureWarning: Passing (type, 1) or '1type' as a synonym of type is deprecated; in a future version of numpy, it will be understood as (type, (1,)) / '(1,)type'.\n",
      "  _np_quint16 = np.dtype([(\"quint16\", np.uint16, 1)])\n",
      "/Users/ismaelfaro/opt/anaconda3/lib/python3.8/site-packages/tensorflow/python/framework/dtypes.py:497: FutureWarning: Passing (type, 1) or '1type' as a synonym of type is deprecated; in a future version of numpy, it will be understood as (type, (1,)) / '(1,)type'.\n",
      "  _np_qint32 = np.dtype([(\"qint32\", np.int32, 1)])\n",
      "/Users/ismaelfaro/opt/anaconda3/lib/python3.8/site-packages/tensorflow/python/framework/dtypes.py:502: FutureWarning: Passing (type, 1) or '1type' as a synonym of type is deprecated; in a future version of numpy, it will be understood as (type, (1,)) / '(1,)type'.\n",
      "  np_resource = np.dtype([(\"resource\", np.ubyte, 1)])\n",
      "<frozen importlib._bootstrap>:219: RuntimeWarning: compiletime version 3.6 of module 'tensorflow.python.framework.fast_tensor_util' does not match runtime version 3.8\n",
      "<frozen importlib._bootstrap>:219: RuntimeWarning: builtins.type size changed, may indicate binary incompatibility. Expected 880, got 864\n",
      "Loading preprocessed files...\n",
      "0/30450 (epoch 0), train_loss = 4.927, time/batch = 3.761\n",
      "Model saved to checkpoints/es/es!\n",
      "1/30450 (epoch 0), train_loss = 4.741, time/batch = 3.019\n",
      "2/30450 (epoch 0), train_loss = 4.059, time/batch = 2.955\n",
      "3/30450 (epoch 0), train_loss = 3.528, time/batch = 2.797\n",
      "4/30450 (epoch 0), train_loss = 3.449, time/batch = 2.825\n",
      "5/30450 (epoch 0), train_loss = 3.297, time/batch = 2.860\n",
      "6/30450 (epoch 0), train_loss = 3.168, time/batch = 2.872\n",
      "7/30450 (epoch 0), train_loss = 3.107, time/batch = 2.992\n",
      "8/30450 (epoch 0), train_loss = 3.099, time/batch = 3.087\n",
      "9/30450 (epoch 0), train_loss = 3.103, time/batch = 2.836\n",
      "10/30450 (epoch 0), train_loss = 3.092, time/batch = 3.028\n",
      "11/30450 (epoch 0), train_loss = 3.046, time/batch = 3.061\n",
      "^C\n"
     ]
    }
   ],
   "source": [
    "!python train.py --data_path ../allpoems.es.txt --rnn_size 512 --batch_size 64 --seq_length 128 --num_layers 2"
   ]
  },
  {
   "cell_type": "code",
   "execution_count": null,
   "metadata": {
    "colab": {
     "base_uri": "https://localhost:8080/"
    },
    "id": "TbRT5OGH87Xo",
    "outputId": "33249b91-08b2-49d4-bb32-c126d9e0ad2d"
   },
   "outputs": [
    {
     "name": "stdout",
     "output_type": "stream",
     "text": [
      "  adding: models/ (stored 0%)\n",
      "  adding: models/es/ (stored 0%)\n",
      "  adding: models/es/manifest.json (deflated 80%)\n",
      "  adding: models/es/rnnlm_softmax_w (deflated 7%)\n",
      "  adding: models/es/vocab.json (deflated 63%)\n",
      "  adding: models/es/rnnlm_multi_rnn_cell_cell_1_basic_lstm_cell_bias (deflated 6%)\n",
      "  adding: models/es/rnnlm_multi_rnn_cell_cell_1_basic_lstm_cell_kernel (deflated 7%)\n",
      "  adding: models/es/rnnlm_multi_rnn_cell_cell_0_basic_lstm_cell_bias (deflated 6%)\n",
      "  adding: models/es/rnnlm_softmax_b (stored 0%)\n",
      "  adding: models/es/rnnlm_multi_rnn_cell_cell_0_basic_lstm_cell_kernel (deflated 7%)\n",
      "  adding: models/es/embedding (deflated 7%)\n",
      "  adding: models/es/Variable (stored 0%)\n"
     ]
    }
   ],
   "source": [
    "!zip -r model.zip models"
   ]
  },
  {
   "cell_type": "code",
   "execution_count": null,
   "metadata": {
    "id": "dNLKnucV8821"
   },
   "outputs": [],
   "source": [
    "test1 (epoch 49), train_loss = 1.757, time/batch = 0.177\n"
   ]
  }
 ],
 "metadata": {
  "accelerator": "GPU",
  "colab": {
   "collapsed_sections": [],
   "name": "basic_training_ml5.ipynb",
   "provenance": []
  },
  "kernelspec": {
   "display_name": "Python 3",
   "language": "python",
   "name": "python3"
  },
  "language_info": {
   "codemirror_mode": {
    "name": "ipython",
    "version": 3
   },
   "file_extension": ".py",
   "mimetype": "text/x-python",
   "name": "python",
   "nbconvert_exporter": "python",
   "pygments_lexer": "ipython3",
   "version": "3.8.8"
  }
 },
 "nbformat": 4,
 "nbformat_minor": 4
}
