{
 "cells": [
  {
   "cell_type": "code",
   "execution_count": 1,
   "metadata": {
    "colab": {
     "base_uri": "https://localhost:8080/"
    },
    "id": "7EEeOyLK8VA_",
    "outputId": "30e84930-5e96-4679-f152-6179edf6db4e"
   },
   "outputs": [
    {
     "name": "stdout",
     "output_type": "stream",
     "text": [
      "Cloning into 'training-charRNN'...\n",
      "remote: Enumerating objects: 105, done.\u001b[K\n",
      "remote: Counting objects: 100% (26/26), done.\u001b[K\n",
      "remote: Compressing objects: 100% (19/19), done.\u001b[K\n",
      "remote: Total 105 (delta 10), reused 5 (delta 3), pack-reused 79\u001b[K\n",
      "Receiving objects: 100% (105/105), 34.09 KiB | 1.62 MiB/s, done.\n",
      "Resolving deltas: 100% (50/50), done.\n"
     ]
    }
   ],
   "source": [
    "!git clone https://github.com/ml5js/training-charRNN.git\n"
   ]
  },
  {
   "cell_type": "code",
   "execution_count": 2,
   "metadata": {
    "colab": {
     "base_uri": "https://localhost:8080/"
    },
    "id": "qF1RK5h9ITwE",
    "outputId": "683c5be6-f77c-4e6d-9aac-eebea1824ced"
   },
   "outputs": [
    {
     "name": "stdout",
     "output_type": "stream",
     "text": [
      "/Users/ismaelfaro/code/poem-art/art/AI_models/training-charRNN\n"
     ]
    }
   ],
   "source": [
    "cd training-charRNN"
   ]
  },
  {
   "cell_type": "code",
   "execution_count": null,
   "metadata": {
    "colab": {
     "base_uri": "https://localhost:8080/",
     "height": 1000
    },
    "id": "W6y8saYIIMjj",
    "outputId": "8e93b2e7-742e-4222-c16c-851bd71f4173"
   },
   "outputs": [
    {
     "name": "stdout",
     "output_type": "stream",
     "text": [
      "Collecting tensorflow==1.15.4\n",
      "  Downloading tensorflow-1.15.4-cp37-cp37m-manylinux2010_x86_64.whl (110.5 MB)\n",
      "\u001b[K     |████████████████████████████████| 110.5 MB 31 kB/s \n",
      "\u001b[?25hRequirement already satisfied: opt-einsum>=2.3.2 in /usr/local/lib/python3.7/dist-packages (from tensorflow==1.15.4->-r requirements.txt (line 1)) (3.3.0)\n",
      "Requirement already satisfied: wrapt>=1.11.1 in /usr/local/lib/python3.7/dist-packages (from tensorflow==1.15.4->-r requirements.txt (line 1)) (1.12.1)\n",
      "Requirement already satisfied: absl-py>=0.7.0 in /usr/local/lib/python3.7/dist-packages (from tensorflow==1.15.4->-r requirements.txt (line 1)) (0.12.0)\n",
      "Requirement already satisfied: google-pasta>=0.1.6 in /usr/local/lib/python3.7/dist-packages (from tensorflow==1.15.4->-r requirements.txt (line 1)) (0.2.0)\n",
      "Requirement already satisfied: wheel>=0.26 in /usr/local/lib/python3.7/dist-packages (from tensorflow==1.15.4->-r requirements.txt (line 1)) (0.37.0)\n",
      "Collecting keras-applications>=1.0.8\n",
      "  Downloading Keras_Applications-1.0.8-py3-none-any.whl (50 kB)\n",
      "\u001b[K     |████████████████████████████████| 50 kB 6.4 MB/s \n",
      "\u001b[?25hCollecting tensorboard<1.16.0,>=1.15.0\n",
      "  Downloading tensorboard-1.15.0-py3-none-any.whl (3.8 MB)\n",
      "\u001b[K     |████████████████████████████████| 3.8 MB 47.7 MB/s \n",
      "\u001b[?25hCollecting numpy<1.19.0,>=1.16.0\n",
      "  Downloading numpy-1.18.5-cp37-cp37m-manylinux1_x86_64.whl (20.1 MB)\n",
      "\u001b[K     |████████████████████████████████| 20.1 MB 1.3 MB/s \n",
      "\u001b[?25hRequirement already satisfied: astor>=0.6.0 in /usr/local/lib/python3.7/dist-packages (from tensorflow==1.15.4->-r requirements.txt (line 1)) (0.8.1)\n",
      "Requirement already satisfied: keras-preprocessing>=1.0.5 in /usr/local/lib/python3.7/dist-packages (from tensorflow==1.15.4->-r requirements.txt (line 1)) (1.1.2)\n",
      "Requirement already satisfied: termcolor>=1.1.0 in /usr/local/lib/python3.7/dist-packages (from tensorflow==1.15.4->-r requirements.txt (line 1)) (1.1.0)\n",
      "Requirement already satisfied: grpcio>=1.8.6 in /usr/local/lib/python3.7/dist-packages (from tensorflow==1.15.4->-r requirements.txt (line 1)) (1.41.0)\n",
      "Requirement already satisfied: six>=1.10.0 in /usr/local/lib/python3.7/dist-packages (from tensorflow==1.15.4->-r requirements.txt (line 1)) (1.15.0)\n",
      "Collecting tensorflow-estimator==1.15.1\n",
      "  Downloading tensorflow_estimator-1.15.1-py2.py3-none-any.whl (503 kB)\n",
      "\u001b[K     |████████████████████████████████| 503 kB 46.0 MB/s \n",
      "\u001b[?25hRequirement already satisfied: protobuf>=3.6.1 in /usr/local/lib/python3.7/dist-packages (from tensorflow==1.15.4->-r requirements.txt (line 1)) (3.17.3)\n",
      "Collecting gast==0.2.2\n",
      "  Downloading gast-0.2.2.tar.gz (10 kB)\n",
      "Requirement already satisfied: h5py in /usr/local/lib/python3.7/dist-packages (from keras-applications>=1.0.8->tensorflow==1.15.4->-r requirements.txt (line 1)) (3.1.0)\n",
      "Requirement already satisfied: setuptools>=41.0.0 in /usr/local/lib/python3.7/dist-packages (from tensorboard<1.16.0,>=1.15.0->tensorflow==1.15.4->-r requirements.txt (line 1)) (57.4.0)\n",
      "Requirement already satisfied: markdown>=2.6.8 in /usr/local/lib/python3.7/dist-packages (from tensorboard<1.16.0,>=1.15.0->tensorflow==1.15.4->-r requirements.txt (line 1)) (3.3.4)\n",
      "Requirement already satisfied: werkzeug>=0.11.15 in /usr/local/lib/python3.7/dist-packages (from tensorboard<1.16.0,>=1.15.0->tensorflow==1.15.4->-r requirements.txt (line 1)) (1.0.1)\n",
      "Requirement already satisfied: importlib-metadata in /usr/local/lib/python3.7/dist-packages (from markdown>=2.6.8->tensorboard<1.16.0,>=1.15.0->tensorflow==1.15.4->-r requirements.txt (line 1)) (4.8.1)\n",
      "Requirement already satisfied: cached-property in /usr/local/lib/python3.7/dist-packages (from h5py->keras-applications>=1.0.8->tensorflow==1.15.4->-r requirements.txt (line 1)) (1.5.2)\n",
      "Requirement already satisfied: zipp>=0.5 in /usr/local/lib/python3.7/dist-packages (from importlib-metadata->markdown>=2.6.8->tensorboard<1.16.0,>=1.15.0->tensorflow==1.15.4->-r requirements.txt (line 1)) (3.6.0)\n",
      "Requirement already satisfied: typing-extensions>=3.6.4 in /usr/local/lib/python3.7/dist-packages (from importlib-metadata->markdown>=2.6.8->tensorboard<1.16.0,>=1.15.0->tensorflow==1.15.4->-r requirements.txt (line 1)) (3.7.4.3)\n",
      "Building wheels for collected packages: gast\n",
      "  Building wheel for gast (setup.py) ... \u001b[?25l\u001b[?25hdone\n",
      "  Created wheel for gast: filename=gast-0.2.2-py3-none-any.whl size=7554 sha256=9049aabb279da4b899d9288887ddd35c84f0bcfcd54e35f9aa9a0570088d17da\n",
      "  Stored in directory: /root/.cache/pip/wheels/21/7f/02/420f32a803f7d0967b48dd823da3f558c5166991bfd204eef3\n",
      "Successfully built gast\n",
      "Installing collected packages: numpy, tensorflow-estimator, tensorboard, keras-applications, gast, tensorflow\n",
      "  Attempting uninstall: numpy\n",
      "    Found existing installation: numpy 1.19.5\n",
      "    Uninstalling numpy-1.19.5:\n",
      "      Successfully uninstalled numpy-1.19.5\n",
      "  Attempting uninstall: tensorflow-estimator\n",
      "    Found existing installation: tensorflow-estimator 2.6.0\n",
      "    Uninstalling tensorflow-estimator-2.6.0:\n",
      "      Successfully uninstalled tensorflow-estimator-2.6.0\n",
      "  Attempting uninstall: tensorboard\n",
      "    Found existing installation: tensorboard 2.6.0\n",
      "    Uninstalling tensorboard-2.6.0:\n",
      "      Successfully uninstalled tensorboard-2.6.0\n",
      "  Attempting uninstall: gast\n",
      "    Found existing installation: gast 0.4.0\n",
      "    Uninstalling gast-0.4.0:\n",
      "      Successfully uninstalled gast-0.4.0\n",
      "  Attempting uninstall: tensorflow\n",
      "    Found existing installation: tensorflow 2.6.0\n",
      "    Uninstalling tensorflow-2.6.0:\n",
      "      Successfully uninstalled tensorflow-2.6.0\n",
      "\u001b[31mERROR: pip's dependency resolver does not currently take into account all the packages that are installed. This behaviour is the source of the following dependency conflicts.\n",
      "tensorflow-probability 0.14.1 requires gast>=0.3.2, but you have gast 0.2.2 which is incompatible.\n",
      "kapre 0.3.5 requires tensorflow>=2.0.0, but you have tensorflow 1.15.4 which is incompatible.\n",
      "datascience 0.10.6 requires folium==0.2.1, but you have folium 0.8.3 which is incompatible.\n",
      "albumentations 0.1.12 requires imgaug<0.2.7,>=0.2.5, but you have imgaug 0.2.9 which is incompatible.\u001b[0m\n",
      "Successfully installed gast-0.2.2 keras-applications-1.0.8 numpy-1.18.5 tensorboard-1.15.0 tensorflow-1.15.4 tensorflow-estimator-1.15.1\n"
     ]
    },
    {
     "data": {
      "application/vnd.colab-display-data+json": {
       "pip_warning": {
        "packages": [
         "numpy"
        ]
       }
      }
     },
     "metadata": {},
     "output_type": "display_data"
    }
   ],
   "source": [
    "pip install -r requirements.txt"
   ]
  },
  {
   "cell_type": "code",
   "execution_count": null,
   "metadata": {
    "colab": {
     "base_uri": "https://localhost:8080/"
    },
    "id": "1wLRm1GI8vkq",
    "outputId": "3e78103f-efc5-4fd1-f0f2-9114afd6038f"
   },
   "outputs": [
    {
     "name": "stdout",
     "output_type": "stream",
     "text": [
      "WARNING:tensorflow:From train.py:29: The name tf.logging.set_verbosity is deprecated. Please use tf.compat.v1.logging.set_verbosity instead.\n",
      "\n",
      "WARNING:tensorflow:From train.py:29: The name tf.logging.ERROR is deprecated. Please use tf.compat.v1.logging.ERROR instead.\n",
      "\n",
      "Loading preprocessed files...\n",
      "0/600 (epoch 0), train_loss = 4.540, time/batch = 25.422\n",
      "Model saved to checkpoints/es/es!\n",
      "1/600 (epoch 0), train_loss = 4.360, time/batch = 16.211\n",
      "2/600 (epoch 0), train_loss = 3.748, time/batch = 15.976\n",
      "3/600 (epoch 0), train_loss = 3.698, time/batch = 15.854\n",
      "4/600 (epoch 0), train_loss = 3.651, time/batch = 15.717\n",
      "5/600 (epoch 0), train_loss = 3.514, time/batch = 15.683\n",
      "6/600 (epoch 0), train_loss = 3.332, time/batch = 15.937\n",
      "7/600 (epoch 0), train_loss = 3.189, time/batch = 15.739\n",
      "8/600 (epoch 0), train_loss = 3.167, time/batch = 15.855\n",
      "9/600 (epoch 0), train_loss = 3.186, time/batch = 15.929\n",
      "10/600 (epoch 0), train_loss = 3.142, time/batch = 15.984\n",
      "11/600 (epoch 0), train_loss = 3.146, time/batch = 15.797\n",
      "12/600 (epoch 1), train_loss = 3.134, time/batch = 15.921\n",
      "13/600 (epoch 1), train_loss = 3.100, time/batch = 15.846\n",
      "14/600 (epoch 1), train_loss = 3.092, time/batch = 15.842\n",
      "15/600 (epoch 1), train_loss = 3.093, time/batch = 15.872\n",
      "16/600 (epoch 1), train_loss = 3.133, time/batch = 15.980\n",
      "17/600 (epoch 1), train_loss = 3.109, time/batch = 15.811\n",
      "18/600 (epoch 1), train_loss = 3.118, time/batch = 15.956\n"
     ]
    }
   ],
   "source": [
    "!python train.py --data_path ../drive/MyDrive/AI/allpoems.es.txt --rnn_size 512 --batch_size 64 --seq_length 128 --num_layers 3"
   ]
  },
  {
   "cell_type": "code",
   "execution_count": null,
   "metadata": {
    "colab": {
     "base_uri": "https://localhost:8080/"
    },
    "id": "TbRT5OGH87Xo",
    "outputId": "33249b91-08b2-49d4-bb32-c126d9e0ad2d"
   },
   "outputs": [
    {
     "name": "stdout",
     "output_type": "stream",
     "text": [
      "  adding: models/ (stored 0%)\n",
      "  adding: models/es/ (stored 0%)\n",
      "  adding: models/es/manifest.json (deflated 80%)\n",
      "  adding: models/es/rnnlm_softmax_w (deflated 7%)\n",
      "  adding: models/es/vocab.json (deflated 63%)\n",
      "  adding: models/es/rnnlm_multi_rnn_cell_cell_1_basic_lstm_cell_bias (deflated 6%)\n",
      "  adding: models/es/rnnlm_multi_rnn_cell_cell_1_basic_lstm_cell_kernel (deflated 7%)\n",
      "  adding: models/es/rnnlm_multi_rnn_cell_cell_0_basic_lstm_cell_bias (deflated 6%)\n",
      "  adding: models/es/rnnlm_softmax_b (stored 0%)\n",
      "  adding: models/es/rnnlm_multi_rnn_cell_cell_0_basic_lstm_cell_kernel (deflated 7%)\n",
      "  adding: models/es/embedding (deflated 7%)\n",
      "  adding: models/es/Variable (stored 0%)\n"
     ]
    }
   ],
   "source": [
    "!zip -r model.zip models"
   ]
  },
  {
   "cell_type": "code",
   "execution_count": null,
   "metadata": {
    "id": "dNLKnucV8821"
   },
   "outputs": [],
   "source": [
    "test1 (epoch 49), train_loss = 1.757, time/batch = 0.177\n"
   ]
  }
 ],
 "metadata": {
  "accelerator": "GPU",
  "colab": {
   "collapsed_sections": [],
   "name": "basic_training_ml5.ipynb",
   "provenance": []
  },
  "kernelspec": {
   "display_name": "Python 3",
   "language": "python",
   "name": "python3"
  },
  "language_info": {
   "codemirror_mode": {
    "name": "ipython",
    "version": 3
   },
   "file_extension": ".py",
   "mimetype": "text/x-python",
   "name": "python",
   "nbconvert_exporter": "python",
   "pygments_lexer": "ipython3",
   "version": "3.8.8"
  }
 },
 "nbformat": 4,
 "nbformat_minor": 4
}
