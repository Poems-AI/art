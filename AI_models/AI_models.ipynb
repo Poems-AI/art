{
 "cells": [
  {
   "cell_type": "code",
   "execution_count": 1,
   "metadata": {},
   "outputs": [],
   "source": [
    "from typing import Iterable\n",
    "from happytransformer import HappyGeneration\n",
    "from happytransformer import GENSettings\n"
   ]
  },
  {
   "cell_type": "code",
   "execution_count": null,
   "metadata": {},
   "outputs": [],
   "source": []
  },
  {
   "cell_type": "code",
   "execution_count": 19,
   "metadata": {},
   "outputs": [
    {
     "data": {
      "application/vnd.jupyter.widget-view+json": {
       "model_id": "2629914ee655421ba5f2d6fb53be6307",
       "version_major": 2,
       "version_minor": 0
      },
      "text/plain": [
       "HBox(children=(FloatProgress(value=0.0, description='Downloading', max=1347.0, style=ProgressStyle(description…"
      ]
     },
     "metadata": {},
     "output_type": "display_data"
    },
    {
     "name": "stdout",
     "output_type": "stream",
     "text": [
      "\n"
     ]
    },
    {
     "name": "stderr",
     "output_type": "stream",
     "text": [
      "10/06/2021 16:42:53 - INFO - happytransformer.happy_transformer -   Using model: cpu\n"
     ]
    }
   ],
   "source": [
    "#Create a HappyGeneration Object\n",
    "# happy_gen = HappyGeneration(\"GPT2\", \"datificate/gpt2-small-spanish\")\n",
    "# happy_gen = HappyGeneration(\"GPT-NEO\", \"EleutherAI/gpt-neo-125M\")\n",
    "happy_gen = HappyGeneration(\"GPT-NEO\", \"EleutherAI/gpt-neo-1.3B\")\n"
   ]
  },
  {
   "cell_type": "code",
   "execution_count": 20,
   "metadata": {},
   "outputs": [
    {
     "name": "stdout",
     "output_type": "stream",
     "text": [
      "['Art', 'is', 'a', 'game', 'and', 'not', 'everyone', 'is', 'invited', 'to', 'play,', 'Art', 'is', 'a', 'game', 'and', 'if', 'Picasso', 'had', 'been', 'born', 'in', 'Botswana', 'nobody', 'would', 'be', 'buying', 'postcards', 'of', 'his', 'works', 'in', 'the', 'gift', 'shop', 'of', 'the', 'MET,', 'Art', 'is', 'what', 'we', 'agree', 'art', 'is,', 'and', 'if', 'someone', 'doesn’t', 'agree,', 'we', 'call', 'them', 'a', 'heretic', 'and', 'we', 'throw', 'them', 'in', 'the', 'Hudson', 'with', 'a', 'sculpture', 'of', 'Robert', 'Indiana', 'tied', 'to', 'their', 'legs', 'to', 'see', 'if', 'they', 'float,', 'It’s', 'art', 'if', 'it', 'doesn’t', 'sink', 'in', 'the', 'river,', 'It’s', 'art', 'if', 'five', 'zeros', 'line', 'up', 'in', 'your', 'wallet,', 'It’s', 'art', 'if', 'it', 'smells', 'like', 'gold,', 'if', 'it', 'tastes', 'like', 'gold,', 'if', 'it', 'weighs', 'the', 'same', 'as', 'gold,', 'It’ll', 'be', 'art', 'if', 'you', 'stop', 'repeating', 'how', 'good', 'it', 'is', 'and', 'you', 'stop', 'to', 'look', 'at', 'it,', 'if', 'you', 'stop', 'trying', 'to', 'understand', 'it,', 'to', 'explain', 'it,', 'Picasso', 'in', 'Botswana', 'passing', 'out', 'Pulas', 'and', 'on', 'the', 'walls', 'of', 'the', 'MOMA', 'pieces', 'of', 'melted', 'egos', 'are', 'hanging,', 'Without', 'oceans,', 'Without', 'people,', 'Rivers', 'of', 'people', 'doing', 'what', 'they', 'DON’T', 'feel,', 'doing', 'what', 'they', 'think', 'they’re', 'supposed', 'to', 'do,', 'what', 'someone', 'told', 'them', 'to', 'do', 'or', 'something', 'that', 'they', 'read', 'in', 'the', 'Time', 'Out', 'New', 'York,', 'or', 'in', 'the', 'Brooklyn', 'Rail,', 'The', 'Setinkane', 'drum', 'sounds', 'and', 'someone', 'plays', 'the', 'Phala', 'Picasso', 'slowly', 'walks', 'through', 'the', 'streets', 'of', 'Gaborone', 'while', 'on', 'the', 'other', 'side', 'of', 'the', 'world,', 'a', 'painting', 'that', 'he', 'didn’t', 'paint', 'sells', 'for', 'millions', 'of', 'dollars,', 'Nobody', 'knows', 'who', 'Picasso', 'is']\n",
      "245\n"
     ]
    }
   ],
   "source": [
    "f = open(\"poem.txt\", \"r\")\n",
    "poem = f.read().replace(\"\\n\",\"\").split(\" \")\n",
    "poem_len = len(poem)\n",
    "print(poem)\n",
    "\n",
    "count = 0\n",
    "print(poem_len)"
   ]
  },
  {
   "cell_type": "code",
   "execution_count": 21,
   "metadata": {},
   "outputs": [],
   "source": [
    "def generate_text(initial_text, debug=False):\n",
    "    len_generator = 245-len(initial_text.split(\" \"))\n",
    "    AI_args = GENSettings(min_length=len_generator, max_length=len_generator, no_repeat_ngram_size=2)\n",
    "    demo = happy_gen.generate_text( initial_text, args = AI_args).text.replace('\\n','')\n",
    "    compose = f\"{initial_text} ^^ {demo}\"\n",
    "    if debug == True:\n",
    "        print(len(compose.split(\" \")))\n",
    "    return compose\n"
   ]
  },
  {
   "cell_type": "code",
   "execution_count": 22,
   "metadata": {},
   "outputs": [
    {
     "name": "stderr",
     "output_type": "stream",
     "text": [
      "Setting `pad_token_id` to `eos_token_id`:50256 for open-end generation.\n"
     ]
    },
    {
     "name": "stdout",
     "output_type": "stream",
     "text": [
      "Art is a game and not everyone is invited to play, Art is a game and if Picasso had been born in Botswana nobody would be buying postcards of his works in the gift shop of the MET, Art is what we agree art is, and if someone doesn’t agree, we call them a heretic and we throw them in the Hudson with a sculpture of Robert Indiana tied to their legs to see if they float, It’s art if it doesn’t sink in the river, It’s art if five zeros line up in your wallet, It’s art if it smells like gold, if it tastes like gold, if it weighs the same as gold, It’ll be art if you stop repeating how good it is and you stop to look at it, if you stop trying to understand it, to explain it, Picasso in Botswana passing out Pulas and on the walls of the MOMA pieces of melted egos are hanging, Without oceans, Without people, Rivers of people doing what they DON’T feel, doing what they think they’re supposed to do, what someone told them to do or something that they read in the Time Out New York, or ^^  the New Yorker, the only thing that matters is that you‘re not a fool, you don”t know what you want, but you know you can“t stop, because you have to go on\n"
     ]
    }
   ],
   "source": [
    "initial_text_test =  \" \".join(poem[0:200])\n",
    "print(generate_text(initial_text_test))"
   ]
  },
  {
   "cell_type": "code",
   "execution_count": 23,
   "metadata": {},
   "outputs": [],
   "source": [
    "file_dest = open(\"poem_AI2.txt\", \"w\")"
   ]
  },
  {
   "cell_type": "code",
   "execution_count": null,
   "metadata": {},
   "outputs": [
    {
     "name": "stderr",
     "output_type": "stream",
     "text": [
      "Setting `pad_token_id` to `eos_token_id`:50256 for open-end generation.\n"
     ]
    },
    {
     "name": "stdout",
     "output_type": "stream",
     "text": [
      "['Art']\n"
     ]
    },
    {
     "name": "stderr",
     "output_type": "stream",
     "text": [
      "Setting `pad_token_id` to `eos_token_id`:50256 for open-end generation.\n"
     ]
    },
    {
     "name": "stdout",
     "output_type": "stream",
     "text": [
      "Art ^^ ificial intelligence (AI) is a field of study that aims to develop systems that can learn and adapt to new situations. AI is often used in the context of robotics, where it is used to improve the performance of robots.The field is also used for the development of autonomous vehicles, which are vehicles that are capable of driving themselves. The term autonomous vehicle is sometimes used interchangeably with autonomous driving, but the two are not the same. Autonomous vehicles are often referred to as autonomous robots, autonomous cars, or autonomous systems. In this article, we will use the term AI to refer to autonomous robotics and autonomous autonomous transportation. We will also use AI for autonomous software development. This article will focus on the use of AI in robotics. It will not cover the field in general. For more information on AI, see the Wikipedia article on Artificial Intelligence.A robot is an autonomous system that is capable to perform a task. A robot can be a robot that performs a specific task, such as a robotic arm, a humanoid robot, an industrial robot or a military robot. Robots can also be autonomous machines that perform tasks that humans cannot perform. These robots are called autonomous agents. An autonomous agent is\n",
      "['Art', 'is']\n"
     ]
    }
   ],
   "source": [
    "partial_poem = []\n",
    "for word in poem:\n",
    "    partial_poem.append(word)\n",
    "    print(partial_poem)\n",
    "    initial_text = \" \".join(partial_poem)\n",
    "    result = generate_text(initial_text)\n",
    "    file_dest.write(result+\"\\n\")\n",
    "    print(result)"
   ]
  },
  {
   "cell_type": "code",
   "execution_count": 132,
   "metadata": {},
   "outputs": [],
   "source": [
    "file_dest.close()"
   ]
  },
  {
   "cell_type": "code",
   "execution_count": null,
   "metadata": {},
   "outputs": [],
   "source": []
  }
 ],
 "metadata": {
  "kernelspec": {
   "display_name": "Python 3",
   "language": "python",
   "name": "python3"
  },
  "language_info": {
   "codemirror_mode": {
    "name": "ipython",
    "version": 3
   },
   "file_extension": ".py",
   "mimetype": "text/x-python",
   "name": "python",
   "nbconvert_exporter": "python",
   "pygments_lexer": "ipython3",
   "version": "3.8.3"
  }
 },
 "nbformat": 4,
 "nbformat_minor": 4
}
